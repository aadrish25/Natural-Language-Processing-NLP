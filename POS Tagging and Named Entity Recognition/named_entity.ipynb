{
 "cells": [
  {
   "cell_type": "code",
   "execution_count": 1,
   "id": "7f3be2e3",
   "metadata": {},
   "outputs": [],
   "source": [
    "sentence=\"\"\"The Eiffel Tower was built between 1887 and 1889 by the French engineer Gustave Eiffel, \n",
    "whose company designed and constructed the tower for the 1889 Exposition Universelle (World's Fair) in Paris\"\"\""
   ]
  },
  {
   "cell_type": "code",
   "execution_count": 2,
   "id": "b74f2246",
   "metadata": {},
   "outputs": [
    {
     "data": {
      "text/plain": [
       "['The',\n",
       " 'Eiffel',\n",
       " 'Tower',\n",
       " 'was',\n",
       " 'built',\n",
       " 'between',\n",
       " '1887',\n",
       " 'and',\n",
       " '1889',\n",
       " 'by',\n",
       " 'the',\n",
       " 'French',\n",
       " 'engineer',\n",
       " 'Gustave',\n",
       " 'Eiffel',\n",
       " ',',\n",
       " 'whose',\n",
       " 'company',\n",
       " 'designed',\n",
       " 'and',\n",
       " 'constructed',\n",
       " 'the',\n",
       " 'tower',\n",
       " 'for',\n",
       " 'the',\n",
       " '1889',\n",
       " 'Exposition',\n",
       " 'Universelle',\n",
       " '(',\n",
       " 'World',\n",
       " \"'s\",\n",
       " 'Fair',\n",
       " ')',\n",
       " 'in',\n",
       " 'Paris']"
      ]
     },
     "execution_count": 2,
     "metadata": {},
     "output_type": "execute_result"
    }
   ],
   "source": [
    "import nltk\n",
    "\n",
    "# tokenize the sentence\n",
    "words=nltk.word_tokenize(sentence)\n",
    "words"
   ]
  },
  {
   "cell_type": "code",
   "execution_count": 3,
   "id": "3510c772",
   "metadata": {},
   "outputs": [
    {
     "data": {
      "text/plain": [
       "[('The', 'DT'),\n",
       " ('Eiffel', 'NNP'),\n",
       " ('Tower', 'NNP'),\n",
       " ('was', 'VBD'),\n",
       " ('built', 'VBN'),\n",
       " ('between', 'IN'),\n",
       " ('1887', 'CD'),\n",
       " ('and', 'CC'),\n",
       " ('1889', 'CD'),\n",
       " ('by', 'IN'),\n",
       " ('the', 'DT'),\n",
       " ('French', 'JJ'),\n",
       " ('engineer', 'NN'),\n",
       " ('Gustave', 'NNP'),\n",
       " ('Eiffel', 'NNP'),\n",
       " (',', ','),\n",
       " ('whose', 'WP$'),\n",
       " ('company', 'NN'),\n",
       " ('designed', 'VBN'),\n",
       " ('and', 'CC'),\n",
       " ('constructed', 'VBN'),\n",
       " ('the', 'DT'),\n",
       " ('tower', 'NN'),\n",
       " ('for', 'IN'),\n",
       " ('the', 'DT'),\n",
       " ('1889', 'CD'),\n",
       " ('Exposition', 'NNP'),\n",
       " ('Universelle', 'NNP'),\n",
       " ('(', '('),\n",
       " ('World', 'NNP'),\n",
       " (\"'s\", 'POS'),\n",
       " ('Fair', 'NNP'),\n",
       " (')', ')'),\n",
       " ('in', 'IN'),\n",
       " ('Paris', 'NNP')]"
      ]
     },
     "execution_count": 3,
     "metadata": {},
     "output_type": "execute_result"
    }
   ],
   "source": [
    "# pos tagging\n",
    "pos_tags=nltk.pos_tag(words)\n",
    "pos_tags"
   ]
  },
  {
   "cell_type": "code",
   "execution_count": 7,
   "id": "d7470414",
   "metadata": {},
   "outputs": [
    {
     "name": "stderr",
     "output_type": "stream",
     "text": [
      "[nltk_data] Downloading package maxent_ne_chunker_tab to\n",
      "[nltk_data]     C:\\Users\\User\\AppData\\Roaming\\nltk_data...\n",
      "[nltk_data]   Package maxent_ne_chunker_tab is already up-to-date!\n",
      "[nltk_data] Downloading package words to\n",
      "[nltk_data]     C:\\Users\\User\\AppData\\Roaming\\nltk_data...\n",
      "[nltk_data]   Unzipping corpora\\words.zip.\n"
     ]
    },
    {
     "data": {
      "text/plain": [
       "True"
      ]
     },
     "execution_count": 7,
     "metadata": {},
     "output_type": "execute_result"
    }
   ],
   "source": [
    "nltk.download('maxent_ne_chunker_tab')\n",
    "nltk.download('words')"
   ]
  },
  {
   "cell_type": "code",
   "execution_count": 10,
   "id": "35f06441",
   "metadata": {},
   "outputs": [],
   "source": [
    "nltk.ne_chunk(pos_tags).draw()\n",
    "# you will see a graph that visualizes whatever entity it has recognized from the sentence"
   ]
  }
 ],
 "metadata": {
  "kernelspec": {
   "display_name": "venv",
   "language": "python",
   "name": "python3"
  },
  "language_info": {
   "codemirror_mode": {
    "name": "ipython",
    "version": 3
   },
   "file_extension": ".py",
   "mimetype": "text/x-python",
   "name": "python",
   "nbconvert_exporter": "python",
   "pygments_lexer": "ipython3",
   "version": "3.10.0"
  }
 },
 "nbformat": 4,
 "nbformat_minor": 5
}
