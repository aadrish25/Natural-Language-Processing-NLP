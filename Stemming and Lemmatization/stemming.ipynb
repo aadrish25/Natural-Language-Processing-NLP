{
 "cells": [
  {
   "cell_type": "code",
   "execution_count": 1,
   "id": "e9db6f0d",
   "metadata": {},
   "outputs": [],
   "source": [
    "words=[\"eating\",\"eats\",\"eaten\",\"writing\",\"writes\",\"programming\",\"programs\",\"finally\",\"finalize\"]"
   ]
  },
  {
   "cell_type": "markdown",
   "id": "75ae040b",
   "metadata": {},
   "source": [
    "### Porter Stemmer"
   ]
  },
  {
   "cell_type": "code",
   "execution_count": 2,
   "id": "1e5aa5fa",
   "metadata": {},
   "outputs": [],
   "source": [
    "from nltk.stem import PorterStemmer\n",
    "\n",
    "ps=PorterStemmer()"
   ]
  },
  {
   "cell_type": "code",
   "execution_count": 3,
   "id": "aa851173",
   "metadata": {},
   "outputs": [
    {
     "name": "stdout",
     "output_type": "stream",
     "text": [
      "eating --> eat\n",
      "eats --> eat\n",
      "eaten --> eaten\n",
      "writing --> write\n",
      "writes --> write\n",
      "programming --> program\n",
      "programs --> program\n",
      "finally --> final\n",
      "finalize --> final\n"
     ]
    }
   ],
   "source": [
    "# apply porter stemmer to each word\n",
    "\n",
    "for word in words:\n",
    "    print(f\"{word} --> {ps.stem(word)}\")"
   ]
  },
  {
   "cell_type": "code",
   "execution_count": 4,
   "id": "49b4e796",
   "metadata": {},
   "outputs": [
    {
     "data": {
      "text/plain": [
       "'congratul'"
      ]
     },
     "execution_count": 4,
     "metadata": {},
     "output_type": "execute_result"
    }
   ],
   "source": [
    "# major disadvantage of stemming is that it can produce non-existent words\n",
    "# e.g. congratulation is stemmed to congratul\n",
    "ps.stem(\"congratulations\")"
   ]
  },
  {
   "cell_type": "markdown",
   "id": "12ca1e96",
   "metadata": {},
   "source": [
    "### RegexpStemmer class"
   ]
  },
  {
   "cell_type": "code",
   "execution_count": 5,
   "id": "65f6b2ee",
   "metadata": {},
   "outputs": [],
   "source": [
    "from nltk.stem import RegexpStemmer\n",
    "\n",
    "reg_stemmer=RegexpStemmer(\"ing$|s$|e$|able$\",min=4)"
   ]
  },
  {
   "cell_type": "code",
   "execution_count": 6,
   "id": "885b8676",
   "metadata": {},
   "outputs": [
    {
     "data": {
      "text/plain": [
       "'eat'"
      ]
     },
     "execution_count": 6,
     "metadata": {},
     "output_type": "execute_result"
    }
   ],
   "source": [
    "reg_stemmer.stem(\"eating\")"
   ]
  },
  {
   "cell_type": "markdown",
   "id": "ccd5e187",
   "metadata": {},
   "source": [
    "#### 'ing' was a regular expression, found in the word. So it is removed."
   ]
  },
  {
   "cell_type": "code",
   "execution_count": 7,
   "id": "02c8b57c",
   "metadata": {},
   "outputs": [
    {
     "data": {
      "text/plain": [
       "'was'"
      ]
     },
     "execution_count": 7,
     "metadata": {},
     "output_type": "execute_result"
    }
   ],
   "source": [
    "# if any word has length less than min, it is not stemmed\n",
    "reg_stemmer.stem(\"was\")"
   ]
  },
  {
   "cell_type": "markdown",
   "id": "6d14c2db",
   "metadata": {},
   "source": [
    "#### 's' from 'was' was not trimmed, because length of 'was'=3 (less than 4)"
   ]
  },
  {
   "cell_type": "markdown",
   "id": "a08fc150",
   "metadata": {},
   "source": [
    "# Snowball Stemmer"
   ]
  },
  {
   "cell_type": "code",
   "execution_count": 8,
   "id": "f0ed7fdf",
   "metadata": {},
   "outputs": [],
   "source": [
    "# snowball stemmer is an improvement over porter stemmer\n",
    "from nltk.stem import SnowballStemmer\n",
    "\n",
    "snowball_stemmer=SnowballStemmer(\"english\")"
   ]
  },
  {
   "cell_type": "code",
   "execution_count": 9,
   "id": "494f9e92",
   "metadata": {},
   "outputs": [
    {
     "name": "stdout",
     "output_type": "stream",
     "text": [
      "eating --> eat\n",
      "eats --> eat\n",
      "eaten --> eaten\n",
      "writing --> write\n",
      "writes --> write\n",
      "programming --> program\n",
      "programs --> program\n",
      "finally --> final\n",
      "finalize --> final\n"
     ]
    }
   ],
   "source": [
    "for word in words:\n",
    "    print(f\"{word} --> {snowball_stemmer.stem(word)}\")"
   ]
  },
  {
   "cell_type": "code",
   "execution_count": 10,
   "id": "718b3274",
   "metadata": {},
   "outputs": [
    {
     "data": {
      "text/plain": [
       "('fairli', 'sportingli')"
      ]
     },
     "execution_count": 10,
     "metadata": {},
     "output_type": "execute_result"
    }
   ],
   "source": [
    "# let's  see how porter stemmer and snowball stemmer differ\n",
    "# 'fairly' and 'sportingly' in porter stemmer\n",
    "ps.stem(\"fairly\"),ps.stem(\"sportingly\")"
   ]
  },
  {
   "cell_type": "code",
   "execution_count": 11,
   "id": "2ad23c16",
   "metadata": {},
   "outputs": [
    {
     "data": {
      "text/plain": [
       "('fair', 'sport')"
      ]
     },
     "execution_count": 11,
     "metadata": {},
     "output_type": "execute_result"
    }
   ],
   "source": [
    "# for snowball stemmer\n",
    "snowball_stemmer.stem(\"fairly\"),snowball_stemmer.stem(\"sportingly\")"
   ]
  },
  {
   "cell_type": "code",
   "execution_count": null,
   "id": "39bd9c50",
   "metadata": {},
   "outputs": [
    {
     "data": {
      "text/plain": [
       "'congratul'"
      ]
     },
     "execution_count": 12,
     "metadata": {},
     "output_type": "execute_result"
    }
   ],
   "source": [
    "snowball_stemmer.stem(\"congratulations\")\n",
    "# but the problem of non-existent words still persists"
   ]
  }
 ],
 "metadata": {
  "kernelspec": {
   "display_name": "venv",
   "language": "python",
   "name": "python3"
  },
  "language_info": {
   "codemirror_mode": {
    "name": "ipython",
    "version": 3
   },
   "file_extension": ".py",
   "mimetype": "text/x-python",
   "name": "python",
   "nbconvert_exporter": "python",
   "pygments_lexer": "ipython3",
   "version": "3.10.0"
  }
 },
 "nbformat": 4,
 "nbformat_minor": 5
}
