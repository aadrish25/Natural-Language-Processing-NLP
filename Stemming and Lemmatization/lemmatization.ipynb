{
 "cells": [
  {
   "cell_type": "markdown",
   "id": "2d9eb699",
   "metadata": {},
   "source": [
    "### Lemmatization is the process of reducing a word to its base or root form, rather than simply stripping suffixes as in stemming. \n",
    "### This is useful in natural language processing tasks to ensure that different forms of a word are treated as the same entity."
   ]
  },
  {
   "cell_type": "code",
   "execution_count": 2,
   "id": "b117252a",
   "metadata": {},
   "outputs": [],
   "source": [
    "from nltk.stem import WordNetLemmatizer"
   ]
  },
  {
   "cell_type": "code",
   "execution_count": 5,
   "id": "70073fcc",
   "metadata": {},
   "outputs": [
    {
     "name": "stderr",
     "output_type": "stream",
     "text": [
      "[nltk_data] Downloading package wordnet to\n",
      "[nltk_data]     C:\\Users\\User\\AppData\\Roaming\\nltk_data...\n"
     ]
    },
    {
     "data": {
      "text/plain": [
       "True"
      ]
     },
     "execution_count": 5,
     "metadata": {},
     "output_type": "execute_result"
    }
   ],
   "source": [
    "import nltk\n",
    "nltk.download('wordnet')"
   ]
  },
  {
   "cell_type": "code",
   "execution_count": 6,
   "id": "9889e53c",
   "metadata": {},
   "outputs": [
    {
     "data": {
      "text/plain": [
       "'go'"
      ]
     },
     "execution_count": 6,
     "metadata": {},
     "output_type": "execute_result"
    }
   ],
   "source": [
    "lemmatizer=WordNetLemmatizer()\n",
    "\n",
    "lemmatizer.lemmatize(\"going\",pos=\"v\")  # pos can be 'a' for adjective, 's' for satellite adjective, 'r' for adverb, 'n' for noun, 'v' for verb"
   ]
  },
  {
   "cell_type": "code",
   "execution_count": 8,
   "id": "1f65a2a7",
   "metadata": {},
   "outputs": [
    {
     "name": "stdout",
     "output_type": "stream",
     "text": [
      "eating --> eating\n",
      "eats --> eats\n",
      "eaten --> eaten\n",
      "programming --> programming\n",
      "programs --> program\n",
      "history --> history\n",
      "finally --> finally\n",
      "finalize --> finalize\n"
     ]
    }
   ],
   "source": [
    "words=[\"eating\",\"eats\",\"eaten\",\"programming\",\"programs\",\"history\",\"finally\",\"finalize\"]\n",
    "\n",
    "for word in words:\n",
    "    print(f\"{word} --> {lemmatizer.lemmatize(word,pos='n')}\") # default pos is 'n' for noun"
   ]
  },
  {
   "cell_type": "code",
   "execution_count": 9,
   "id": "3052f57b",
   "metadata": {},
   "outputs": [
    {
     "name": "stdout",
     "output_type": "stream",
     "text": [
      "eating --> eat\n",
      "eats --> eat\n",
      "eaten --> eat\n",
      "programming --> program\n",
      "programs --> program\n",
      "history --> history\n",
      "finally --> finally\n",
      "finalize --> finalize\n"
     ]
    }
   ],
   "source": [
    "for word in words:\n",
    "    print(f\"{word} --> {lemmatizer.lemmatize(word,pos='v')}\") # pos is 'v' for verb"
   ]
  },
  {
   "cell_type": "code",
   "execution_count": 15,
   "id": "302282b2",
   "metadata": {},
   "outputs": [
    {
     "name": "stdout",
     "output_type": "stream",
     "text": [
      "congratulation\n"
     ]
    }
   ],
   "source": [
    "# lets check congratulations\n",
    "print(lemmatizer.lemmatize(\"congratulations\",pos='n'))\n",
    "### Lemmatization is the process of reducing a word to its base or root form, rather than simply stripping suffixes as in stemming."
   ]
  }
 ],
 "metadata": {
  "kernelspec": {
   "display_name": "venv",
   "language": "python",
   "name": "python3"
  },
  "language_info": {
   "codemirror_mode": {
    "name": "ipython",
    "version": 3
   },
   "file_extension": ".py",
   "mimetype": "text/x-python",
   "name": "python",
   "nbconvert_exporter": "python",
   "pygments_lexer": "ipython3",
   "version": "3.10.0"
  }
 },
 "nbformat": 4,
 "nbformat_minor": 5
}
