{
 "cells": [
  {
   "cell_type": "code",
   "execution_count": 23,
   "id": "c034cd5c",
   "metadata": {},
   "outputs": [],
   "source": [
    "corpus=\"\"\"Hello, I am Aadrish. I have a growing interest in ML,NLP and DL.\n",
    "I am also a student currently.\"\"\""
   ]
  },
  {
   "cell_type": "code",
   "execution_count": 9,
   "id": "a6efbbc1",
   "metadata": {},
   "outputs": [
    {
     "name": "stdout",
     "output_type": "stream",
     "text": [
      "Hello, I am Aadrish.I have a growing interest in ML,NLP and DL.\n",
      "I am also a student currently.\n"
     ]
    }
   ],
   "source": [
    "print(corpus)"
   ]
  },
  {
   "cell_type": "code",
   "execution_count": 26,
   "id": "02c69c93",
   "metadata": {},
   "outputs": [],
   "source": [
    "## Tokenization\n",
    "# convert the paragraph into sentences\n",
    "from nltk.tokenize import sent_tokenize,word_tokenize\n",
    "\n",
    "# sent_tokenize-> a library which converts paragraph into sentences"
   ]
  },
  {
   "cell_type": "code",
   "execution_count": 19,
   "id": "63accf5a",
   "metadata": {},
   "outputs": [
    {
     "name": "stderr",
     "output_type": "stream",
     "text": [
      "[nltk_data] Downloading package punkt to\n",
      "[nltk_data]     C:\\Users\\User\\AppData\\Roaming\\nltk_data...\n",
      "[nltk_data]   Package punkt is already up-to-date!\n"
     ]
    },
    {
     "data": {
      "text/plain": [
       "True"
      ]
     },
     "execution_count": 19,
     "metadata": {},
     "output_type": "execute_result"
    }
   ],
   "source": [
    "import nltk\n",
    "nltk.download('punkt')"
   ]
  },
  {
   "cell_type": "code",
   "execution_count": 21,
   "id": "11f625e9",
   "metadata": {},
   "outputs": [
    {
     "name": "stderr",
     "output_type": "stream",
     "text": [
      "[nltk_data] Downloading package punkt_tab to\n",
      "[nltk_data]     C:\\Users\\User\\AppData\\Roaming\\nltk_data...\n",
      "[nltk_data]   Unzipping tokenizers\\punkt_tab.zip.\n"
     ]
    },
    {
     "data": {
      "text/plain": [
       "True"
      ]
     },
     "execution_count": 21,
     "metadata": {},
     "output_type": "execute_result"
    }
   ],
   "source": [
    "nltk.download('punkt_tab')"
   ]
  },
  {
   "cell_type": "code",
   "execution_count": 25,
   "id": "01c76f64",
   "metadata": {},
   "outputs": [],
   "source": [
    "sentences=sent_tokenize(corpus)"
   ]
  },
  {
   "cell_type": "code",
   "execution_count": 29,
   "id": "97373d4e",
   "metadata": {},
   "outputs": [
    {
     "data": {
      "text/plain": [
       "['Hello',\n",
       " ',',\n",
       " 'I',\n",
       " 'am',\n",
       " 'Aadrish',\n",
       " '.',\n",
       " 'I',\n",
       " 'have',\n",
       " 'a',\n",
       " 'growing',\n",
       " 'interest',\n",
       " 'in',\n",
       " 'ML',\n",
       " ',',\n",
       " 'NLP',\n",
       " 'and',\n",
       " 'DL',\n",
       " '.',\n",
       " 'I',\n",
       " 'am',\n",
       " 'also',\n",
       " 'a',\n",
       " 'student',\n",
       " 'currently',\n",
       " '.']"
      ]
     },
     "execution_count": 29,
     "metadata": {},
     "output_type": "execute_result"
    }
   ],
   "source": [
    "# word_tokenize()-> library that converts sentences or paragraph into words\n",
    "word_tokenize(corpus)"
   ]
  },
  {
   "cell_type": "code",
   "execution_count": 30,
   "id": "77ac1e9f",
   "metadata": {},
   "outputs": [
    {
     "name": "stdout",
     "output_type": "stream",
     "text": [
      "['Hello', ',', 'I', 'am', 'Aadrish', '.']\n",
      "['I', 'have', 'a', 'growing', 'interest', 'in', 'ML', ',', 'NLP', 'and', 'DL', '.']\n",
      "['I', 'am', 'also', 'a', 'student', 'currently', '.']\n"
     ]
    }
   ],
   "source": [
    "# on sentences\n",
    "for sentence in sentences:\n",
    "    print(word_tokenize(sentence))"
   ]
  },
  {
   "cell_type": "code",
   "execution_count": 31,
   "id": "0f00407f",
   "metadata": {},
   "outputs": [],
   "source": [
    "# Treebank tokenizer\n",
    "from nltk.tokenize import TreebankWordTokenizer\n",
    "\n",
    "tokenizer=TreebankWordTokenizer()"
   ]
  },
  {
   "cell_type": "code",
   "execution_count": 33,
   "id": "8f8d0f66",
   "metadata": {},
   "outputs": [
    {
     "data": {
      "text/plain": [
       "['Hello',\n",
       " ',',\n",
       " 'I',\n",
       " 'am',\n",
       " 'Aadrish.',\n",
       " 'I',\n",
       " 'have',\n",
       " 'a',\n",
       " 'growing',\n",
       " 'interest',\n",
       " 'in',\n",
       " 'ML',\n",
       " ',',\n",
       " 'NLP',\n",
       " 'and',\n",
       " 'DL.',\n",
       " 'I',\n",
       " 'am',\n",
       " 'also',\n",
       " 'a',\n",
       " 'student',\n",
       " 'currently',\n",
       " '.']"
      ]
     },
     "execution_count": 33,
     "metadata": {},
     "output_type": "execute_result"
    }
   ],
   "source": [
    "tokenizer.tokenize(corpus)\n",
    "# full stop is not treated as a separate token, included with word"
   ]
  }
 ],
 "metadata": {
  "kernelspec": {
   "display_name": "Python 3",
   "language": "python",
   "name": "python3"
  },
  "language_info": {
   "codemirror_mode": {
    "name": "ipython",
    "version": 3
   },
   "file_extension": ".py",
   "mimetype": "text/x-python",
   "name": "python",
   "nbconvert_exporter": "python",
   "pygments_lexer": "ipython3",
   "version": "3.10.0"
  }
 },
 "nbformat": 4,
 "nbformat_minor": 5
}
